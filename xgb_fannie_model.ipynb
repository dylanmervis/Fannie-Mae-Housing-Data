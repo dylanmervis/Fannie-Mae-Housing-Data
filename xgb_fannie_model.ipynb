{
 "cells": [
  {
   "cell_type": "markdown",
   "id": "e4a2bbe5-d23c-4b61-884b-4c77b8ad326d",
   "metadata": {},
   "source": [
    "## Import Packages"
   ]
  },
  {
   "cell_type": "code",
   "execution_count": 1,
   "id": "19d3ac86-3fea-4135-9992-9adb58a786b0",
   "metadata": {},
   "outputs": [],
   "source": [
    "import numpy as np\n",
    "import pandas as pd\n",
    "from matplotlib import pyplot as plt\n",
    "import matplotlib as mpl\n",
    "import seaborn as sns\n",
    "import dill\n",
    "import random\n",
    "\n",
    "from sklearn.metrics import mean_squared_error, make_scorer\n",
    "from sklearn.impute import SimpleImputer\n",
    "from sklearn.preprocessing import OneHotEncoder, FunctionTransformer, LabelEncoder, StandardScaler, OrdinalEncoder\n",
    "from sklearn.pipeline import Pipeline\n",
    "from sklearn.compose import ColumnTransformer\n",
    "from sklearn.linear_model import Ridge, Lasso, LassoCV, RidgeCV, LinearRegression\n",
    "from sklearn.tree import DecisionTreeRegressor, plot_tree\n",
    "from sklearn.ensemble import RandomForestRegressor\n",
    "from sklearn.neural_network import MLPRegressor\n",
    "from sklearn.model_selection import train_test_split, GridSearchCV, KFold, cross_val_predict\n",
    "from xgboost import XGBRegressor\n",
    "\n",
    "from patsy import dmatrices, dmatrix, build_design_matrices\n",
    "\n",
    "# Set number of CPU cores for parallel algorithms\n",
    "import os\n",
    "if \"CPU_LIMIT\" in os.environ:\n",
    "    # If you are on JupyterHub, this gives you the right number of CPUs for your virtual machine\n",
    "    num_cpus = int(os.getenv(\"CPU_LIMIT\").split('.')[0])\n",
    "else:\n",
    "    # If you are not on JupyterHub, this gives you the right number for your computer.\n",
    "    num_cpus = os.cpu_count()"
   ]
  },
  {
   "cell_type": "code",
   "execution_count": 2,
   "id": "c08c52ea-f574-4b75-a8cb-9cefca1b071f",
   "metadata": {},
   "outputs": [],
   "source": [
    "# This sets some nicer defaults for plotting.\n",
    "# This must be run in a separate cell from importing matplotlib due to a bug.\n",
    "params = {'legend.fontsize': 'large',\n",
    "          'figure.figsize': (11.0, 11.0),\n",
    "          'axes.labelsize': 'x-large',\n",
    "          'axes.titlesize':'xx-large',\n",
    "          'xtick.labelsize':'large',\n",
    "          'ytick.labelsize':'large'}\n",
    "mpl.rcParams.update(params)\n",
    "\n",
    "# This makes it so that the pandas dataframes don't get truncated horizontally.\n",
    "pd.options.display.max_columns = 200"
   ]
  },
  {
   "cell_type": "markdown",
   "id": "17083360-941c-4021-af77-8c67aac429ec",
   "metadata": {},
   "source": [
    "## Load the Data "
   ]
  },
  {
   "cell_type": "code",
   "execution_count": 3,
   "id": "66098c95-35a2-409f-aa15-25690820d02b",
   "metadata": {},
   "outputs": [],
   "source": [
    "col_classes = {\"LOAN_IDENTIFIER\": np.character, \n",
    "               \"CHANNEL\": 'category', \n",
    "               \"SELLER_NAME\": np.character, \n",
    "               \"ORIGINAL_INTEREST_RATE\": np.float32, \n",
    "               \"ORIGINAL_UPB\": np.float64,\n",
    "               \"ORIGINAL_LOAN_TERM\": \"Int16\", \n",
    "               \"ORIGINATION_DATE\": np.character,\n",
    "               \"FIRST_PAYMENT_DATE\": np.character, \n",
    "               \"ORIGINAL_LTV\": np.float32, \n",
    "               \"ORIGINAL_COMBINED_LTV\": np.float32, \n",
    "               \"NUMBER_OF_BORROWERS\": 'category', \n",
    "               \"DTI\": np.float32, \n",
    "               \"BORROWER_CREDIT_SCORE_AT_ORIGINATION\": \"UInt16\", \n",
    "               \"COBORROWER_CREDIT_SCORE_AT_ORIGINATION\": 'UInt16', \n",
    "               \"FIRST_TIME_HOME_BUYER_INDICATOR\": 'category', \n",
    "               \"LOAN_PURPOSE\": 'category', \n",
    "               \"PROPERTY_TYPE\": 'category',\n",
    "               \"NUMBER_OF_UNITS\": \"UInt16\", \n",
    "               \"OCCUPANCY_STATUS\": 'category', \n",
    "               \"PROPERTY_STATE\": 'category', \n",
    "               \"MSA\": 'category', \n",
    "               \"ZIP_CODE_SHORT\": 'category', \n",
    "               \"MORTGAGE_INSURANCE_PERCENTAGE\": np.float32, \n",
    "               \"AMORTIZATION_TYPE\": np.character,\n",
    "               \"MORTGAGE_INSURANCE_TYPE\": 'category', \n",
    "               \"RELOCATION_MORTGAGE_INDICATOR\": 'category',\n",
    "               \"CREDIT_SCORE_MIN\": \"UInt16\",\n",
    "               \"ORIGINAL_VALUE\": float,\n",
    "               \"ZERO_BALANCE_CODE\": 'category',\n",
    "               \"LOAN_AGE\": \"Int16\",\n",
    "               \"NET_LOSS\": float,\n",
    "               \"NET_SEVERITY\": float,\n",
    "               \"LAST_STAT\": 'category',\n",
    "               \"LOAN_MODIFICATION_COSTS\": float,\n",
    "               \"TOTAL_LOSSES\": float,\n",
    "               \"MSA_NAME\": 'category',\n",
    "               \"CENSUS_2010_POP\": float}\n",
    "\n",
    "date_columns = [\"ORIGINATION_DATE\",\n",
    "                \"FIRST_PAYMENT_DATE\"]"
   ]
  },
  {
   "cell_type": "code",
   "execution_count": 4,
   "id": "10241518-50cf-44bf-8754-c29c1d2fa079",
   "metadata": {},
   "outputs": [
    {
     "name": "stdout",
     "output_type": "stream",
     "text": [
      "CPU times: user 2min 3s, sys: 7.85 s, total: 2min 11s\n",
      "Wall time: 2min 13s\n"
     ]
    }
   ],
   "source": [
    "%%time\n",
    "\n",
    "full_data_set = True\n",
    "\n",
    "FILES_LOCATION = '../Shared Data (Read Only)/Fannie Mae Data/'\n",
    "\n",
    "if not full_data_set:\n",
    "    df_train = pd.read_csv(FILES_LOCATION + \"FannieMaeSmallTrain.csv\",\n",
    "                           index_col=\"LOAN_IDENTIFIER\",\n",
    "                           dtype=col_classes,\n",
    "                           parse_dates=date_columns,\n",
    "                           sep='|')\n",
    "    df_test = pd.read_csv(FILES_LOCATION + \"FannieMaeSmallTest.csv\",\n",
    "                          index_col=\"LOAN_IDENTIFIER\",\n",
    "                          dtype=col_classes,\n",
    "                          parse_dates=date_columns,\n",
    "                          sep='|')\n",
    "\n",
    "if full_data_set:\n",
    "    # This p is the proportion of the training data you load.\n",
    "    # You can set it anywhere from 0 to 1.\n",
    "    p = 0.25\n",
    "    random.seed(201)\n",
    "    df_train = pd.read_csv(FILES_LOCATION + \"FannieMaeTrain.csv\",\n",
    "                           index_col=\"LOAN_IDENTIFIER\",\n",
    "                           dtype=col_classes,\n",
    "                           parse_dates=date_columns,\n",
    "                           sep='|',\n",
    "                           skiprows=lambda i: i>0 and random.random() > p)\n",
    "    df_test = pd.read_csv(FILES_LOCATION + \"FannieMaeTest.csv\",\n",
    "                          index_col=\"LOAN_IDENTIFIER\",\n",
    "                          dtype=col_classes,\n",
    "                          parse_dates=date_columns,\n",
    "                          sep='|')"
   ]
  },
  {
   "cell_type": "code",
   "execution_count": 5,
   "id": "0b14e8da-d461-491a-adbe-361bb55bd753",
   "metadata": {},
   "outputs": [
    {
     "data": {
      "text/plain": [
       "(11094188, 36)"
      ]
     },
     "execution_count": 5,
     "metadata": {},
     "output_type": "execute_result"
    }
   ],
   "source": [
    "df_train.shape"
   ]
  },
  {
   "cell_type": "code",
   "execution_count": 6,
   "id": "24948995-7067-4c3b-85eb-d5265bbf7a5a",
   "metadata": {},
   "outputs": [
    {
     "data": {
      "text/plain": [
       "(4930731, 36)"
      ]
     },
     "execution_count": 6,
     "metadata": {},
     "output_type": "execute_result"
    }
   ],
   "source": [
    "df_test.shape"
   ]
  },
  {
   "cell_type": "markdown",
   "id": "60b1ff51-4963-4d89-bb21-89f655941b1e",
   "metadata": {},
   "source": [
    "## Summarize the Data"
   ]
  },
  {
   "cell_type": "code",
   "execution_count": 7,
   "id": "06e0eddf-d3bf-4f29-87bb-1f4b54a78c9e",
   "metadata": {},
   "outputs": [],
   "source": [
    "if 'ZERO_BALANCE_CODE' in df_train:\n",
    "    df_train.drop(['ZERO_BALANCE_CODE', 'LOAN_AGE', 'NET_SEVERITY', 'LAST_STAT', 'LOAN_MODIFICATION_COSTS', 'TOTAL_LOSSES'],\n",
    "                  axis=1,\n",
    "                  inplace=True)\n",
    "if 'ZERO_BALANCE_CODE' in df_test:\n",
    "    df_test.drop(['ZERO_BALANCE_CODE', 'LOAN_AGE', 'NET_SEVERITY', 'LAST_STAT', 'LOAN_MODIFICATION_COSTS', 'TOTAL_LOSSES'],\n",
    "                  axis=1,\n",
    "                  inplace=True)"
   ]
  },
  {
   "cell_type": "code",
   "execution_count": 8,
   "id": "3915a43a-f0e3-4038-bcc0-21d287b52a6f",
   "metadata": {},
   "outputs": [],
   "source": [
    "def summarize_dataframe(df):\n",
    "    \"\"\"Summarize a dataframe, and report missing values.\"\"\"\n",
    "    missing_values = pd.DataFrame({'Variable Name': df.columns,\n",
    "                                   'Data Type': df.dtypes,\n",
    "                                   'Missing Values': df.isnull().sum(),\n",
    "                                   'Unique Values': [df[name].nunique() for name in df.columns]}\n",
    "                                 ).set_index('Variable Name')\n",
    "    with pd.option_context(\"display.max_rows\", 1000):\n",
    "        display(pd.concat([missing_values, df.describe(include='all', datetime_is_numeric=True).transpose()], axis=1).fillna(\"\"))"
   ]
  },
  {
   "cell_type": "markdown",
   "id": "73137d52-0c57-4194-95d7-41e7bf32bc9c",
   "metadata": {},
   "source": [
    "## Engineer Row Based Features"
   ]
  },
  {
   "cell_type": "code",
   "execution_count": 9,
   "id": "800e3325-2a58-4fbb-9019-f685a8a380e0",
   "metadata": {},
   "outputs": [],
   "source": [
    "df_train['ORIGINATION_DATE'] = pd.to_datetime(df_train['ORIGINATION_DATE'], format='%Y-%m-%d')\n",
    "\n",
    "df_test['ORIGINATION_DATE'] = pd.to_datetime(df_test['ORIGINATION_DATE'], format='%Y-%m-%d')"
   ]
  },
  {
   "cell_type": "code",
   "execution_count": 10,
   "id": "fd381048-7fed-4a70-8601-9443b2e557bc",
   "metadata": {},
   "outputs": [],
   "source": [
    "df_train['YEAR'] = df_train['ORIGINATION_DATE'].dt.year\n",
    "df_test['YEAR'] = df_test['ORIGINATION_DATE'].dt.year"
   ]
  },
  {
   "cell_type": "markdown",
   "id": "ee64e79b-f310-445d-9883-653ac2018b8d",
   "metadata": {},
   "source": [
    "### Date Features"
   ]
  },
  {
   "cell_type": "code",
   "execution_count": 11,
   "id": "47749a9e-e42c-48c4-9e2a-930b096ea49d",
   "metadata": {},
   "outputs": [],
   "source": [
    "# pull out quarter and month\n",
    "df_train['QUARTER'] = df_train['ORIGINATION_DATE'].dt.quarter\n",
    "df_test['QUARTER'] = df_test['ORIGINATION_DATE'].dt.quarter\n",
    "df_train['MONTH'] = df_train['ORIGINATION_DATE'].dt.month\n",
    "df_test['MONTH'] = df_test['ORIGINATION_DATE'].dt.month"
   ]
  },
  {
   "cell_type": "code",
   "execution_count": 12,
   "id": "406d8464-a601-4a8e-a2e8-b47e5637ea57",
   "metadata": {},
   "outputs": [],
   "source": [
    "year_train = df_train['YEAR']\n",
    "year_test= df_test['YEAR']"
   ]
  },
  {
   "cell_type": "code",
   "execution_count": 13,
   "id": "cb2748b9-402e-425c-8f58-c41576250d7e",
   "metadata": {},
   "outputs": [
    {
     "data": {
      "text/plain": [
       "LOAN_IDENTIFIER\n",
       "384584747416     3\n",
       "784893300593    -6\n",
       "98826276        11\n",
       "732335456818    -6\n",
       "778665625108    -6\n",
       "                ..\n",
       "406816644901     0\n",
       "902779441341    -6\n",
       "222954820423     8\n",
       "100236974       12\n",
       "322600763099     5\n",
       "Name: years_since_crash, Length: 11094188, dtype: int64"
      ]
     },
     "execution_count": 13,
     "metadata": {},
     "output_type": "execute_result"
    }
   ],
   "source": [
    "df_train['years_since_crash'] = df_train['YEAR'] - 2008\n",
    "df_test['years_since_crash'] = df_test['YEAR'] - 2008\n",
    "df_train.years_since_crash"
   ]
  },
  {
   "cell_type": "markdown",
   "id": "a1ede5c8-ca4d-4a5d-8dca-d23d45b836e7",
   "metadata": {},
   "source": [
    "### Geography Features"
   ]
  },
  {
   "cell_type": "code",
   "execution_count": 14,
   "id": "a59da945-772e-441b-9c79-aa14f0cb459a",
   "metadata": {},
   "outputs": [],
   "source": [
    "#region code\n",
    "states = {\n",
    "        'AK': 'O',\n",
    "        'AL': 'S',\n",
    "        'AR': 'S',\n",
    "        'AS': 'O',\n",
    "        'AZ': 'W',\n",
    "        'CA': 'W',\n",
    "        'CO': 'W',\n",
    "        'CT': 'N',\n",
    "        'DC': 'N',\n",
    "        'DE': 'N',\n",
    "        'FL': 'S',\n",
    "        'GA': 'S',\n",
    "        'GU': 'O',\n",
    "        'HI': 'O',\n",
    "        'IA': 'M',\n",
    "        'ID': 'W',\n",
    "        'IL': 'M',\n",
    "        'IN': 'M',\n",
    "        'KS': 'M',\n",
    "        'KY': 'S',\n",
    "        'LA': 'S',\n",
    "        'MA': 'N',\n",
    "        'MD': 'N',\n",
    "        'ME': 'N',\n",
    "        'MI': 'W',\n",
    "        'MN': 'M',\n",
    "        'MO': 'M',\n",
    "        'MP': 'O',\n",
    "        'MS': 'S',\n",
    "        'MT': 'W',\n",
    "        'NA': 'O',\n",
    "        'NC': 'S',\n",
    "        'ND': 'M',\n",
    "        'NE': 'W',\n",
    "        'NH': 'N',\n",
    "        'NJ': 'N',\n",
    "        'NM': 'W',\n",
    "        'NV': 'W',\n",
    "        'NY': 'N',\n",
    "        'OH': 'M',\n",
    "        'OK': 'S',\n",
    "        'OR': 'W',\n",
    "        'PA': 'N',\n",
    "        'PR': 'O',\n",
    "        'RI': 'N',\n",
    "        'SC': 'S',\n",
    "        'SD': 'M',\n",
    "        'TN': 'S',\n",
    "        'TX': 'S',\n",
    "        'UT': 'W',\n",
    "        'VA': 'S',\n",
    "        'VI': 'O',\n",
    "        'VT': 'N',\n",
    "        'WA': 'W',\n",
    "        'WI': 'M',\n",
    "    \n",
    "        'WV': 'S',\n",
    "        'WY': 'W'\n",
    "}\n"
   ]
  },
  {
   "cell_type": "code",
   "execution_count": 15,
   "id": "08fdc92b-c208-4723-9176-94534f051311",
   "metadata": {},
   "outputs": [
    {
     "data": {
      "text/html": [
       "<div>\n",
       "<style scoped>\n",
       "    .dataframe tbody tr th:only-of-type {\n",
       "        vertical-align: middle;\n",
       "    }\n",
       "\n",
       "    .dataframe tbody tr th {\n",
       "        vertical-align: top;\n",
       "    }\n",
       "\n",
       "    .dataframe thead th {\n",
       "        text-align: right;\n",
       "    }\n",
       "</style>\n",
       "<table border=\"1\" class=\"dataframe\">\n",
       "  <thead>\n",
       "    <tr style=\"text-align: right;\">\n",
       "      <th></th>\n",
       "      <th>PROPERTY_STATE</th>\n",
       "      <th>REGION</th>\n",
       "    </tr>\n",
       "    <tr>\n",
       "      <th>LOAN_IDENTIFIER</th>\n",
       "      <th></th>\n",
       "      <th></th>\n",
       "    </tr>\n",
       "  </thead>\n",
       "  <tbody>\n",
       "    <tr>\n",
       "      <th>384584747416</th>\n",
       "      <td>MD</td>\n",
       "      <td>N</td>\n",
       "    </tr>\n",
       "    <tr>\n",
       "      <th>784893300593</th>\n",
       "      <td>UT</td>\n",
       "      <td>W</td>\n",
       "    </tr>\n",
       "    <tr>\n",
       "      <th>98826276</th>\n",
       "      <td>VA</td>\n",
       "      <td>S</td>\n",
       "    </tr>\n",
       "    <tr>\n",
       "      <th>732335456818</th>\n",
       "      <td>FL</td>\n",
       "      <td>S</td>\n",
       "    </tr>\n",
       "    <tr>\n",
       "      <th>778665625108</th>\n",
       "      <td>FL</td>\n",
       "      <td>S</td>\n",
       "    </tr>\n",
       "    <tr>\n",
       "      <th>...</th>\n",
       "      <td>...</td>\n",
       "      <td>...</td>\n",
       "    </tr>\n",
       "    <tr>\n",
       "      <th>406816644901</th>\n",
       "      <td>CO</td>\n",
       "      <td>W</td>\n",
       "    </tr>\n",
       "    <tr>\n",
       "      <th>902779441341</th>\n",
       "      <td>AZ</td>\n",
       "      <td>W</td>\n",
       "    </tr>\n",
       "    <tr>\n",
       "      <th>222954820423</th>\n",
       "      <td>LA</td>\n",
       "      <td>S</td>\n",
       "    </tr>\n",
       "    <tr>\n",
       "      <th>100236974</th>\n",
       "      <td>OR</td>\n",
       "      <td>W</td>\n",
       "    </tr>\n",
       "    <tr>\n",
       "      <th>322600763099</th>\n",
       "      <td>NY</td>\n",
       "      <td>N</td>\n",
       "    </tr>\n",
       "  </tbody>\n",
       "</table>\n",
       "<p>11094188 rows × 2 columns</p>\n",
       "</div>"
      ],
      "text/plain": [
       "                PROPERTY_STATE REGION\n",
       "LOAN_IDENTIFIER                      \n",
       "384584747416                MD      N\n",
       "784893300593                UT      W\n",
       "98826276                    VA      S\n",
       "732335456818                FL      S\n",
       "778665625108                FL      S\n",
       "...                        ...    ...\n",
       "406816644901                CO      W\n",
       "902779441341                AZ      W\n",
       "222954820423                LA      S\n",
       "100236974                   OR      W\n",
       "322600763099                NY      N\n",
       "\n",
       "[11094188 rows x 2 columns]"
      ]
     },
     "execution_count": 15,
     "metadata": {},
     "output_type": "execute_result"
    }
   ],
   "source": [
    "df_train['REGION'] = df_train['PROPERTY_STATE'].map(states)\n",
    "df_train[['PROPERTY_STATE','REGION']]"
   ]
  },
  {
   "cell_type": "code",
   "execution_count": 16,
   "id": "315780b8-c411-4933-81a5-a6e3011b3222",
   "metadata": {},
   "outputs": [
    {
     "data": {
      "text/html": [
       "<div>\n",
       "<style scoped>\n",
       "    .dataframe tbody tr th:only-of-type {\n",
       "        vertical-align: middle;\n",
       "    }\n",
       "\n",
       "    .dataframe tbody tr th {\n",
       "        vertical-align: top;\n",
       "    }\n",
       "\n",
       "    .dataframe thead th {\n",
       "        text-align: right;\n",
       "    }\n",
       "</style>\n",
       "<table border=\"1\" class=\"dataframe\">\n",
       "  <thead>\n",
       "    <tr style=\"text-align: right;\">\n",
       "      <th></th>\n",
       "      <th>PROPERTY_STATE</th>\n",
       "      <th>REGION</th>\n",
       "    </tr>\n",
       "    <tr>\n",
       "      <th>LOAN_IDENTIFIER</th>\n",
       "      <th></th>\n",
       "      <th></th>\n",
       "    </tr>\n",
       "  </thead>\n",
       "  <tbody>\n",
       "    <tr>\n",
       "      <th>101189015</th>\n",
       "      <td>FL</td>\n",
       "      <td>S</td>\n",
       "    </tr>\n",
       "    <tr>\n",
       "      <th>321503282919</th>\n",
       "      <td>NV</td>\n",
       "      <td>W</td>\n",
       "    </tr>\n",
       "    <tr>\n",
       "      <th>291437756634</th>\n",
       "      <td>MI</td>\n",
       "      <td>W</td>\n",
       "    </tr>\n",
       "    <tr>\n",
       "      <th>980873633380</th>\n",
       "      <td>AR</td>\n",
       "      <td>S</td>\n",
       "    </tr>\n",
       "    <tr>\n",
       "      <th>435213593495</th>\n",
       "      <td>NV</td>\n",
       "      <td>W</td>\n",
       "    </tr>\n",
       "    <tr>\n",
       "      <th>...</th>\n",
       "      <td>...</td>\n",
       "      <td>...</td>\n",
       "    </tr>\n",
       "    <tr>\n",
       "      <th>658790054482</th>\n",
       "      <td>AL</td>\n",
       "      <td>S</td>\n",
       "    </tr>\n",
       "    <tr>\n",
       "      <th>610939793362</th>\n",
       "      <td>TX</td>\n",
       "      <td>S</td>\n",
       "    </tr>\n",
       "    <tr>\n",
       "      <th>787788149067</th>\n",
       "      <td>IL</td>\n",
       "      <td>M</td>\n",
       "    </tr>\n",
       "    <tr>\n",
       "      <th>552091843200</th>\n",
       "      <td>MI</td>\n",
       "      <td>W</td>\n",
       "    </tr>\n",
       "    <tr>\n",
       "      <th>256562229484</th>\n",
       "      <td>MO</td>\n",
       "      <td>M</td>\n",
       "    </tr>\n",
       "  </tbody>\n",
       "</table>\n",
       "<p>4930731 rows × 2 columns</p>\n",
       "</div>"
      ],
      "text/plain": [
       "                PROPERTY_STATE REGION\n",
       "LOAN_IDENTIFIER                      \n",
       "101189015                   FL      S\n",
       "321503282919                NV      W\n",
       "291437756634                MI      W\n",
       "980873633380                AR      S\n",
       "435213593495                NV      W\n",
       "...                        ...    ...\n",
       "658790054482                AL      S\n",
       "610939793362                TX      S\n",
       "787788149067                IL      M\n",
       "552091843200                MI      W\n",
       "256562229484                MO      M\n",
       "\n",
       "[4930731 rows x 2 columns]"
      ]
     },
     "execution_count": 16,
     "metadata": {},
     "output_type": "execute_result"
    }
   ],
   "source": [
    "df_test['REGION'] = df_test['PROPERTY_STATE'].map(states)\n",
    "df_test[['PROPERTY_STATE','REGION']]"
   ]
  },
  {
   "cell_type": "markdown",
   "id": "7b750462-2af5-4d65-8e72-cb0e13bb5fc3",
   "metadata": {},
   "source": [
    "## Split Into Training and Validation"
   ]
  },
  {
   "cell_type": "code",
   "execution_count": 18,
   "id": "4ebf4249-659a-4134-a6e6-180711ef1388",
   "metadata": {},
   "outputs": [],
   "source": [
    "df_smaller_train, df_validation = train_test_split(df_train, test_size = 0.25, random_state = 201)"
   ]
  },
  {
   "cell_type": "code",
   "execution_count": 19,
   "id": "9b375dd3-c56d-4f96-bf36-2e9716df70e4",
   "metadata": {},
   "outputs": [],
   "source": [
    "df_smaller_train = df_smaller_train.copy()\n",
    "df_validation = df_validation.copy()"
   ]
  },
  {
   "cell_type": "markdown",
   "id": "bf6c687b-8b33-4c65-9e72-28824f75ffed",
   "metadata": {},
   "source": [
    "## Impute Missing Values"
   ]
  },
  {
   "cell_type": "code",
   "execution_count": 20,
   "id": "8ccab1ac-f1df-4742-a231-534eb18482b0",
   "metadata": {},
   "outputs": [],
   "source": [
    "from sklearn.base import BaseEstimator, TransformerMixin\n",
    "\n",
    "class CategoricalImputer(BaseEstimator, TransformerMixin):\n",
    "    \"\"\"\n",
    "    Custom defined imputer for categorical data. This allows you to specify an \n",
    "    other class where any category that doesn't meet the requirements necessary to\n",
    "    be in \n",
    "    \"\"\"\n",
    "    \n",
    "    def __init__(self, other_threshold=0, \n",
    "                 other_label=\"OTHER\",\n",
    "                 missing_first=True,\n",
    "                 missing_values=np.nan, \n",
    "                 strategy='constant', \n",
    "                 fill_value=\"MISSING\", \n",
    "                 verbose=0, \n",
    "                 copy=True, \n",
    "                 add_indicator=False):\n",
    "        self.add_indicator = add_indicator\n",
    "        self.copy=copy\n",
    "        self.verbose=verbose\n",
    "        self.fill_value=fill_value\n",
    "        self.missing_first=missing_first\n",
    "        self.missing_values=missing_values\n",
    "        self.other_label=other_label\n",
    "        self.other_threshold=other_threshold\n",
    "        self.strategy=strategy\n",
    "        if hasattr(missing_values, \"__iter__\"):\n",
    "            self.missing_values = missing_values\n",
    "        else:\n",
    "            self.missing_values = [missing_values]\n",
    "        self._imputer = SimpleImputer(missing_values=missing_values, strategy=strategy, fill_value=fill_value, verbose=verbose, copy=copy, add_indicator=False)\n",
    "        self._column_categories = {}\n",
    "\n",
    "        \n",
    "    def fit(self, X, y=None):\n",
    "        if type(self.other_threshold) == int or type(self.other_threshold) == float:\n",
    "            other_threshold = [self.other_threshold]*len(X.columns)\n",
    "        elif len(self.other_threshold) == len(X.columns):\n",
    "            other_threshold = self.other_threshold\n",
    "        else:\n",
    "            raise TypeError(\"other_threshold must be either a single number or a list of numbers equal to the number of columns.\")\n",
    "\n",
    "        i = 0\n",
    "        X = X.copy()\n",
    "        X = X[:].astype(object)\n",
    "        if self.missing_first:\n",
    "            X = pd.DataFrame(self._imputer.fit_transform(X), columns=X.columns, index=X.index)\n",
    "        column_categories = {}\n",
    "        for column in X.columns:\n",
    "            if other_threshold[i] < 1:\n",
    "                other_threshold[i] = other_threshold[i]*X[column].shape[0]\n",
    "            \n",
    "            value_counts = X[column].value_counts()\n",
    "            categories = [category for category in value_counts.index if value_counts.loc[category] >= other_threshold[i]]\n",
    "            if value_counts.iloc[-1] >= other_threshold[i]:\n",
    "                categories[-1] = self.other_label\n",
    "            else:\n",
    "                categories.append(self.other_label)\n",
    "            \n",
    "            self._column_categories[column] = categories\n",
    "            i = i + 1\n",
    "        \n",
    "        return self\n",
    "    \n",
    "    def transform(self, X, y=None):\n",
    "        X = X.copy()\n",
    "        X = X[:].astype(object)\n",
    "        if self.missing_first:\n",
    "            X = pd.DataFrame(self._imputer.fit_transform(X), columns=X.columns, index=X.index)\n",
    "        for column in X.columns:\n",
    "            X.loc[~X[column].isin(self._column_categories[column]) & ~X[column].isin(self.missing_values), column] = self.other_label\n",
    "        return pd.DataFrame(self._imputer.fit_transform(X), columns=X.columns, index=X.index)[:].astype(str)"
   ]
  },
  {
   "cell_type": "code",
   "execution_count": 21,
   "id": "42851c82-475d-4e97-9a30-6e723d7c548e",
   "metadata": {},
   "outputs": [],
   "source": [
    "imputer_mean = SimpleImputer(missing_values=np.nan, strategy='mean')\n",
    "imputer_zero = SimpleImputer(missing_values=np.nan, strategy='constant', fill_value=0)\n",
    "categorical_imputer = CategoricalImputer(other_threshold=.01)\n",
    "imputer_missing = SimpleImputer(missing_values=np.nan, strategy='constant', fill_value='missing')\n",
    "# Dan imputer\n",
    "imputer_special = SimpleImputer(missing_values=np.nan, strategy='constant', fill_value=700)"
   ]
  },
  {
   "cell_type": "code",
   "execution_count": 22,
   "id": "930537a2-bb19-47e3-8cf3-0f2c35798d5f",
   "metadata": {},
   "outputs": [],
   "source": [
    "continuous_mean = ['ORIGINAL_INTEREST_RATE',\n",
    "                   'ORIGINAL_UPB',\n",
    "                   'ORIGINAL_LOAN_TERM',\n",
    "                   'ORIGINAL_LTV',\n",
    "                   'ORIGINAL_COMBINED_LTV',\n",
    "                   'DTI',\n",
    "                   'ORIGINAL_VALUE',\n",
    "                   'YEAR', 'years_since_crash']\n",
    "\n",
    "continuous_zero = ['MORTGAGE_INSURANCE_PERCENTAGE',\n",
    "                   'CREDIT_SCORE_MIN']\n",
    "\n",
    "special = ['BORROWER_CREDIT_SCORE_AT_ORIGINATION',\n",
    "                   'COBORROWER_CREDIT_SCORE_AT_ORIGINATION']\n",
    "\n",
    "continuous_variables = continuous_mean + continuous_zero + special\n",
    "\n",
    "categorical_missing = ['FIRST_TIME_HOME_BUYER_INDICATOR',\n",
    "                       'MORTGAGE_INSURANCE_TYPE']\n",
    "\n",
    "\n",
    "categorical_variables = ['CHANNEL',\n",
    "                         'SELLER_NAME',\n",
    "                         'NUMBER_OF_BORROWERS',\n",
    "                         'LOAN_PURPOSE',\n",
    "                         'PROPERTY_TYPE',\n",
    "                         'NUMBER_OF_UNITS',\n",
    "                         'OCCUPANCY_STATUS',\n",
    "                         'PROPERTY_STATE',\n",
    "                         'ZIP_CODE_SHORT',\n",
    "                         'AMORTIZATION_TYPE',\n",
    "                         'RELOCATION_MORTGAGE_INDICATOR',\n",
    "                         'MSA',\n",
    "                         'MSA_NAME',\n",
    "                         'CENSUS_2010_POP']"
   ]
  },
  {
   "cell_type": "code",
   "execution_count": 23,
   "id": "50855202-687a-4b1d-9257-1058c7276b43",
   "metadata": {},
   "outputs": [],
   "source": [
    "imputer_mean.fit(df_smaller_train[continuous_mean])\n",
    "df_smaller_train[continuous_mean] = imputer_mean.transform(df_smaller_train[continuous_mean])\n",
    "df_validation[continuous_mean] = imputer_mean.transform(df_validation[continuous_mean])"
   ]
  },
  {
   "cell_type": "code",
   "execution_count": 24,
   "id": "30a92a55-e62e-4113-a3a9-62256c9aa72d",
   "metadata": {},
   "outputs": [],
   "source": [
    "imputer_zero.fit(df_smaller_train[continuous_zero])\n",
    "df_smaller_train[continuous_zero] = imputer_zero.transform(df_smaller_train[continuous_zero])\n",
    "df_validation[continuous_zero] = imputer_zero.transform(df_validation[continuous_zero])"
   ]
  },
  {
   "cell_type": "code",
   "execution_count": 25,
   "id": "f6f4f9e6-32a2-4ec6-b0f2-7beb2b087b9b",
   "metadata": {},
   "outputs": [],
   "source": [
    "categorical_imputer.fit(df_smaller_train[categorical_variables])\n",
    "df_smaller_train[categorical_variables] = categorical_imputer.transform(df_smaller_train[categorical_variables])\n",
    "df_validation[categorical_variables] = categorical_imputer.transform(df_validation[categorical_variables])"
   ]
  },
  {
   "cell_type": "code",
   "execution_count": 26,
   "id": "0cee4529-c3fa-4c3e-94dc-be6c16f24530",
   "metadata": {},
   "outputs": [],
   "source": [
    "imputer_special.fit(df_smaller_train[special])\n",
    "df_smaller_train[special] = imputer_special.transform(df_smaller_train[special])\n",
    "df_validation[special] = imputer_special.transform(df_validation[special])"
   ]
  },
  {
   "cell_type": "code",
   "execution_count": 27,
   "id": "d0c8b21d-9b2d-4886-a189-de1a7423ecf6",
   "metadata": {},
   "outputs": [],
   "source": [
    "imputer_missing.fit(df_smaller_train[categorical_missing])\n",
    "df_smaller_train[categorical_missing] = imputer_missing.transform(df_smaller_train[categorical_missing])\n",
    "df_validation[categorical_missing] = imputer_missing.transform(df_validation[categorical_missing])"
   ]
  },
  {
   "cell_type": "markdown",
   "id": "4d1aa9fa-77f8-416f-b0d1-b9ba3d42b880",
   "metadata": {},
   "source": [
    "## Set Up the Evaluation Metric"
   ]
  },
  {
   "cell_type": "code",
   "execution_count": 28,
   "id": "2eddf78a-5f33-43a0-a2c5-911af3c5d3d8",
   "metadata": {},
   "outputs": [],
   "source": [
    "average_loss = df_train['NET_LOSS'].mean()"
   ]
  },
  {
   "cell_type": "code",
   "execution_count": 29,
   "id": "12f68585-25a9-4f5e-92eb-e176f9ef6711",
   "metadata": {},
   "outputs": [],
   "source": [
    "def accuracy(y_true, y_pred):\n",
    "    \"\"\"Function that returns a table showing RMSE and MAE.\"\"\"\n",
    "    RMSE = mean_squared_error(y_true, y_pred)**(1/2)\n",
    "    naive_RMSE = mean_squared_error(y_true, [average_loss]*len(y_true))**(1/2)\n",
    "    acc_df = pd.DataFrame(data = {\"RMSE\": [RMSE],\n",
    "                                  \"Naive - RMSE\": [naive_RMSE - RMSE]})\n",
    "    display(acc_df.style.hide_index())"
   ]
  },
  {
   "cell_type": "markdown",
   "id": "a90567a2-6003-4e52-88f1-68c5abbaab06",
   "metadata": {},
   "source": [
    "## Feature Engineering for Tree Based Models"
   ]
  },
  {
   "cell_type": "code",
   "execution_count": 30,
   "id": "fe8fb750-e8b1-465d-82bb-394736ffc3a9",
   "metadata": {},
   "outputs": [],
   "source": [
    "continuous_features_trees = ['ORIGINAL_INTEREST_RATE',\n",
    "                             'ORIGINAL_UPB',\n",
    "                             'ORIGINAL_LOAN_TERM',\n",
    "                             'ORIGINAL_LTV',\n",
    "                             'ORIGINAL_COMBINED_LTV',\n",
    "                             'DTI',\n",
    "                             'BORROWER_CREDIT_SCORE_AT_ORIGINATION',\n",
    "                             'COBORROWER_CREDIT_SCORE_AT_ORIGINATION',\n",
    "                             'MORTGAGE_INSURANCE_PERCENTAGE',\n",
    "                             'CREDIT_SCORE_MIN',\n",
    "                             'ORIGINAL_VALUE','years_since_crash']\n",
    "\n",
    "cat_ordinal_features_trees = ['SELLER_NAME', \n",
    "                              'NUMBER_OF_BORROWERS', \n",
    "                              'PROPERTY_STATE',\n",
    "                              'CENSUS_2010_POP',\n",
    "                              'NUMBER_OF_UNITS']\n",
    "\n",
    "cat_dummy_features_trees = ['FIRST_TIME_HOME_BUYER_INDICATOR',\n",
    "                            'CHANNEL',\n",
    "                            'LOAN_PURPOSE',\n",
    "                            'PROPERTY_TYPE',\n",
    "                            'OCCUPANCY_STATUS',\n",
    "                            'AMORTIZATION_TYPE',\n",
    "                            'MORTGAGE_INSURANCE_TYPE',\n",
    "                            'RELOCATION_MORTGAGE_INDICATOR',\n",
    "                            'QUARTER',\n",
    "                            'MONTH',\n",
    "                            'YEAR', \n",
    "                            'REGION']"
   ]
  },
  {
   "cell_type": "code",
   "execution_count": 31,
   "id": "8b1249bc-514c-4759-8ac3-ba19543ed49c",
   "metadata": {},
   "outputs": [],
   "source": [
    "X_tree_train = df_smaller_train[continuous_features_trees + cat_ordinal_features_trees]\n",
    "y_tree_train = df_smaller_train['NET_LOSS']"
   ]
  },
  {
   "cell_type": "code",
   "execution_count": 32,
   "id": "28d87651-5080-4403-a053-6b50afa4e7c4",
   "metadata": {},
   "outputs": [],
   "source": [
    "# patsy matrix to get dummies\n",
    "formula_tree = \"0 + \" + \" + \".join(cat_dummy_features_trees)"
   ]
  },
  {
   "cell_type": "code",
   "execution_count": 33,
   "id": "e0d7f3f5-0b73-4ec9-ad96-54241727d59d",
   "metadata": {},
   "outputs": [
    {
     "data": {
      "text/plain": [
       "'0 + FIRST_TIME_HOME_BUYER_INDICATOR + CHANNEL + LOAN_PURPOSE + PROPERTY_TYPE + OCCUPANCY_STATUS + AMORTIZATION_TYPE + MORTGAGE_INSURANCE_TYPE + RELOCATION_MORTGAGE_INDICATOR + QUARTER + MONTH + YEAR + REGION'"
      ]
     },
     "execution_count": 33,
     "metadata": {},
     "output_type": "execute_result"
    }
   ],
   "source": [
    "formula_tree"
   ]
  },
  {
   "cell_type": "code",
   "execution_count": 34,
   "id": "bab3beb8-05bd-4844-9d45-9d468c37334c",
   "metadata": {},
   "outputs": [],
   "source": [
    "# add a couple interactions\n",
    "formula_tree = \"0 + \" + \" + \".join(cat_dummy_features_trees) + \" + FIRST_TIME_HOME_BUYER_INDICATOR:BORROWER_CREDIT_SCORE_AT_ORIGINATION + \\\n",
    "ORIGINAL_LTV:years_since_crash\""
   ]
  },
  {
   "cell_type": "code",
   "execution_count": 35,
   "id": "5b2dd204-3b01-42dd-b1fa-74a3205bbb83",
   "metadata": {},
   "outputs": [],
   "source": [
    "X_tree_train_patsy = dmatrix(formula_tree, df_smaller_train, return_type=\"dataframe\")"
   ]
  },
  {
   "cell_type": "code",
   "execution_count": 36,
   "id": "e89afeae-31e9-4f51-955c-9fb25f8f0702",
   "metadata": {},
   "outputs": [],
   "source": [
    "X_tree_train = pd.concat([X_tree_train, X_tree_train_patsy], axis=1)"
   ]
  },
  {
   "cell_type": "code",
   "execution_count": 37,
   "id": "ce1b703d-e5fb-43cc-b89d-92250ec9fac0",
   "metadata": {},
   "outputs": [],
   "source": [
    "ordinal_encoder = OrdinalEncoder()\n",
    "ordinal_encoder.fit(X_tree_train[cat_ordinal_features_trees])\n",
    "X_tree_train[cat_ordinal_features_trees] = ordinal_encoder.transform(X_tree_train[cat_ordinal_features_trees])"
   ]
  },
  {
   "cell_type": "code",
   "execution_count": 38,
   "id": "94c83b46-9d30-452d-b9b9-77ed6c75bf38",
   "metadata": {},
   "outputs": [
    {
     "name": "stderr",
     "output_type": "stream",
     "text": [
      "/tmp/ipykernel_88/2726445372.py:2: FutureWarning: The default value of regex will change from True to False in a future version. In addition, single character regular expressions will *not* be treated as literal strings when regex=True.\n",
      "  X_tree_train.columns = X_tree_train.columns.str.replace('[', '(').str.replace(']', ')')\n"
     ]
    }
   ],
   "source": [
    "# get variables ready for xgboost\n",
    "X_tree_train.columns = X_tree_train.columns.str.replace('[', '(').str.replace(']', ')')"
   ]
  },
  {
   "cell_type": "code",
   "execution_count": 39,
   "id": "68ecb7ee-f72d-46d0-b33b-4907838b524f",
   "metadata": {},
   "outputs": [
    {
     "name": "stderr",
     "output_type": "stream",
     "text": [
      "/tmp/ipykernel_88/2231108295.py:11: FutureWarning: The default value of regex will change from True to False in a future version. In addition, single character regular expressions will *not* be treated as literal strings when regex=True.\n",
      "  X_tree_validation.columns = X_tree_validation.columns.str.replace('[', '(').str.replace(']', ')')\n"
     ]
    }
   ],
   "source": [
    "# transform validation set\n",
    "X_tree_validation = df_validation[continuous_features_trees + cat_ordinal_features_trees]\n",
    "y_tree_validation = df_validation['NET_LOSS']\n",
    "\n",
    "X_tree_validation_patsy = build_design_matrices([X_tree_train_patsy.design_info], df_validation, return_type=\"dataframe\")[0]\n",
    "\n",
    "X_tree_validation = pd.concat([X_tree_validation, X_tree_validation_patsy], axis=1)\n",
    "\n",
    "X_tree_validation[cat_ordinal_features_trees] = ordinal_encoder.transform(X_tree_validation[cat_ordinal_features_trees])\n",
    "\n",
    "X_tree_validation.columns = X_tree_validation.columns.str.replace('[', '(').str.replace(']', ')')"
   ]
  },
  {
   "cell_type": "code",
   "execution_count": 40,
   "id": "ce710ad3-2abc-4f50-859a-fba9cfbc0429",
   "metadata": {},
   "outputs": [],
   "source": [
    "# just pick some variables to start\n",
    "xgb_model = XGBRegressor(max_depth=5,\n",
    "                         n_estimators = 500,\n",
    "                         learning_rate=.1,\n",
    "                         min_child_weight = 1,\n",
    "                         colsample_bytree = 0.8,\n",
    "                         subsample = 0.8,\n",
    "                         gamma = 0.1,\n",
    "                         random_state=201,\n",
    "                         n_jobs=num_cpus)"
   ]
  },
  {
   "cell_type": "code",
   "execution_count": 41,
   "id": "fab7f92e-29cd-4068-816c-4a3cc7bb4315",
   "metadata": {},
   "outputs": [
    {
     "name": "stdout",
     "output_type": "stream",
     "text": [
      "[0]\tvalidation_0-rmse:7413.33398\tvalidation_1-rmse:7377.79688\n",
      "[50]\tvalidation_0-rmse:7136.19434\tvalidation_1-rmse:7099.67139\n",
      "[100]\tvalidation_0-rmse:7090.05371\tvalidation_1-rmse:7056.65967\n",
      "[150]\tvalidation_0-rmse:7064.70508\tvalidation_1-rmse:7035.02197\n",
      "[200]\tvalidation_0-rmse:7044.48682\tvalidation_1-rmse:7018.87793\n",
      "[250]\tvalidation_0-rmse:7031.87012\tvalidation_1-rmse:7010.49951\n",
      "[300]\tvalidation_0-rmse:7021.84375\tvalidation_1-rmse:7005.06738\n",
      "[350]\tvalidation_0-rmse:7011.79102\tvalidation_1-rmse:6998.58691\n",
      "[400]\tvalidation_0-rmse:7004.62939\tvalidation_1-rmse:6994.86230\n",
      "[450]\tvalidation_0-rmse:6997.92432\tvalidation_1-rmse:6992.94287\n",
      "[499]\tvalidation_0-rmse:6991.65576\tvalidation_1-rmse:6991.54785\n"
     ]
    },
    {
     "data": {
      "text/plain": [
       "XGBRegressor(base_score=0.5, booster='gbtree', colsample_bylevel=1,\n",
       "             colsample_bynode=1, colsample_bytree=0.8, gamma=0.1, gpu_id=-1,\n",
       "             importance_type='gain', interaction_constraints='',\n",
       "             learning_rate=0.1, max_delta_step=0, max_depth=5,\n",
       "             min_child_weight=1, missing=nan, monotone_constraints='()',\n",
       "             n_estimators=500, n_jobs=15, num_parallel_tree=1, random_state=201,\n",
       "             reg_alpha=0, reg_lambda=1, scale_pos_weight=1, subsample=0.8,\n",
       "             tree_method='approx', validate_parameters=1, verbosity=None)"
      ]
     },
     "execution_count": 41,
     "metadata": {},
     "output_type": "execute_result"
    }
   ],
   "source": [
    "# fit first iteration with early stopping\n",
    "xgb_model.fit(X_tree_train, y_tree_train, early_stopping_rounds = 50, verbose = 50,\n",
    "              eval_set = [(X_tree_train, y_tree_train), (X_tree_validation, y_tree_validation)])"
   ]
  },
  {
   "cell_type": "code",
   "execution_count": 43,
   "id": "d9c87536-3fc0-414e-a168-61913a0425fc",
   "metadata": {},
   "outputs": [],
   "source": [
    "# tune max_depth and min_child_weight\n",
    "param_test1 = {'max_depth':np.arange(4,14,1),\n",
    "               'min_child_weight':np.arange(1,15,1)}"
   ]
  },
  {
   "cell_type": "code",
   "execution_count": null,
   "id": "1f40a7b5-c7ef-4410-a63d-597427c83774",
   "metadata": {},
   "outputs": [],
   "source": [
    "# grid search with parameter grid - chose max_depth = 7 and min_child_weight = 8\n",
    "gsearch1 = GridSearchCV(estimator = XGBRegressor(learning_rate =0.1, n_estimators=500, max_depth=5,\n",
    "                                                 min_child_weight=1, gamma=0.1, subsample=0.8, colsample_bytree=0.8, seed=201, \n",
    "                                                 n_jobs=num_cpus), \n",
    "                        param_grid = param_test1, scoring = 'neg_mean_squared_error', cv=5, n_jobs=num_cpus)\n",
    "gsearch1.fit(X_tree_train,y_tree_train, early_stopping_rounds = 50, verbose = False,\n",
    "            eval_set = [(X_tree_train, y_tree_train), (X_tree_validation, y_tree_validation)])\n",
    "gsearch1.best_params_, gsearch1.best_score_"
   ]
  },
  {
   "cell_type": "code",
   "execution_count": null,
   "id": "952484da-5307-41dd-a130-c9872c2d6f40",
   "metadata": {},
   "outputs": [],
   "source": [
    "# tune gamma\n",
    "param_test2 = {\n",
    " 'gamma':[i/10.0 for i in range(0,5)]\n",
    "}"
   ]
  },
  {
   "cell_type": "code",
   "execution_count": null,
   "id": "762245e2-4e47-4b39-9d39-f85af6fbff9b",
   "metadata": {},
   "outputs": [],
   "source": [
    "# grid search chose gamma = 0.0\n",
    "gsearch2 = GridSearchCV(estimator = XGBRegressor(learning_rate =0.1, n_estimators=193, max_depth=7,\n",
    "                                                 min_child_weight=8, gamma=0.1, subsample=0.8, colsample_bytree=0.8, seed=201, \n",
    "                                                 n_jobs=num_cpus), \n",
    "                        param_grid = param_test2, scoring = 'neg_mean_squared_error', cv=5, n_jobs=num_cpus)\n",
    "gsearch2.fit(X_tree_train,y_tree_train, early_stopping_rounds = 50, verbose = False, eval_metric = 'rmse',\n",
    "            eval_set = [(X_tree_train, y_tree_train), (X_tree_validation, y_tree_validation)])\n",
    "gsearch2.best_params_, gsearch2.best_score_"
   ]
  },
  {
   "cell_type": "code",
   "execution_count": null,
   "id": "e0647ef1-9c3d-4280-a94b-1e3b2a2d56a5",
   "metadata": {},
   "outputs": [],
   "source": [
    "# fit second xgboost model with updated parameters\n",
    "xgb_model2 = XGBRegressor(max_depth=7,\n",
    "                         n_estimators = 1000,\n",
    "                         learning_rate=.1,\n",
    "                         min_child_weight = 8,\n",
    "                         colsample_bytree = 0.8,\n",
    "                         gamma = 0.0,\n",
    "                         random_state=201,\n",
    "                         n_jobs=num_cpus)"
   ]
  },
  {
   "cell_type": "code",
   "execution_count": null,
   "id": "e91cb680-41e4-4c3f-abbf-323711a4f555",
   "metadata": {},
   "outputs": [],
   "source": [
    "xgb_model2.fit(X_tree_train, y_tree_train, early_stopping_rounds = 50, verbose = 50,\n",
    "              eval_set = [(X_tree_train, y_tree_train), (X_tree_validation, y_tree_validation)])"
   ]
  },
  {
   "cell_type": "code",
   "execution_count": null,
   "id": "c00871f0-f5c0-4ca2-95ff-3f380f851a49",
   "metadata": {},
   "outputs": [],
   "source": [
    "# tune subsample and colsample_bytree\n",
    "param_test3 = {\n",
    " 'subsample':[i/10.0 for i in range(6,10)],\n",
    " 'colsample_bytree':[i/10.0 for i in range(6,10)]\n",
    "}"
   ]
  },
  {
   "cell_type": "code",
   "execution_count": null,
   "id": "6874323e-9c40-4589-9ec2-143b20ca6c45",
   "metadata": {},
   "outputs": [],
   "source": [
    "# grid search chose subsample = .7 and colsample_bytree = .9\n",
    "gsearch3 = GridSearchCV(estimator = XGBRegressor(learning_rate =0.1, n_estimators=120, max_depth=7,\n",
    "                                                 min_child_weight=8, gamma=0.0, subsample=0.9, colsample_bytree=0.7, seed=201, \n",
    "                                                 n_jobs=num_cpus), \n",
    "                        param_grid = param_test3, scoring = 'neg_mean_squared_error', cv=5, n_jobs=num_cpus)\n",
    "gsearch3.fit(X_tree_train,y_tree_train, early_stopping_rounds = 50, verbose = False,\n",
    "            eval_set = [(X_tree_train, y_tree_train), (X_tree_validation, y_tree_validation)])\n",
    "gsearch3.best_params_, gsearch3.best_score_"
   ]
  },
  {
   "cell_type": "code",
   "execution_count": null,
   "id": "4f704884-2192-48fd-a0bc-26ede227afad",
   "metadata": {},
   "outputs": [],
   "source": [
    "# re-tune subsample and colsample_bytree using smaller grid chosen from gsearch3\n",
    "param_test4 = {\n",
    " 'subsample':[i/100.0 for i in range(85,100,5)],\n",
    " 'colsample_bytree':[i/100.0 for i in range(65,80,5)]\n",
    "}"
   ]
  },
  {
   "cell_type": "code",
   "execution_count": null,
   "id": "87771b30-2dfc-423a-9a27-b4d4cf239528",
   "metadata": {},
   "outputs": [],
   "source": [
    "# still 0.7 and 0.9\n",
    "gsearch4 = GridSearchCV(estimator = XGBRegressor(learning_rate =0.1, n_estimators=120, max_depth=7,\n",
    "                                                 min_child_weight=8, gamma=0.0, subsample=0.8, colsample_bytree=0.8, seed=201, \n",
    "                                                 n_jobs=num_cpus), \n",
    "                        param_grid = param_test4, scoring = 'neg_mean_squared_error', cv=5, n_jobs=num_cpus)\n",
    "gsearch4.fit(X_tree_train,y_tree_train, early_stopping_rounds = 50, verbose = False,\n",
    "            eval_set = [(X_tree_train, y_tree_train), (X_tree_validation, y_tree_validation)])\n",
    "gsearch4.best_params_, gsearch4.best_score_"
   ]
  },
  {
   "cell_type": "code",
   "execution_count": null,
   "id": "d120fefe-5b71-41c4-9fee-abc278f259d1",
   "metadata": {},
   "outputs": [],
   "source": [
    "# tune alpha regularization (L1)\n",
    "param_test5 = {\n",
    " 'reg_alpha':[0, 0.001, 0.005, 0.01, 0.025, 0.05]\n",
    "}"
   ]
  },
  {
   "cell_type": "code",
   "execution_count": null,
   "id": "78daa668-794d-48a0-8cdf-1645f391e06d",
   "metadata": {},
   "outputs": [],
   "source": [
    "# grid search chose alpha = 0.05 indicating need for larger parameters\n",
    "gsearch5 = GridSearchCV(estimator = XGBRegressor(learning_rate =0.1, n_estimators=120, max_depth=7,\n",
    "                                                 min_child_weight=8, gamma=0.0, subsample=0.9, colsample_bytree=0.7, seed=201, \n",
    "                                                 n_jobs=num_cpus), \n",
    "                        param_grid = param_test5, scoring = 'neg_mean_squared_error', cv=5, n_jobs=num_cpus)\n",
    "gsearch5.fit(X_tree_train,y_tree_train, early_stopping_rounds = 50, verbose = False,\n",
    "            eval_set = [(X_tree_train, y_tree_train), (X_tree_validation, y_tree_validation)])\n",
    "gsearch5.best_params_, gsearch5.best_score_"
   ]
  },
  {
   "cell_type": "code",
   "execution_count": null,
   "id": "a52d59f0-8f2b-4383-b07e-4637107a0e25",
   "metadata": {},
   "outputs": [],
   "source": [
    "param_test6 = {\n",
    " 'reg_alpha':[0.75, 0.85, 1.0, 1.1, 1.2, 1.3]\n",
    "}"
   ]
  },
  {
   "cell_type": "code",
   "execution_count": null,
   "id": "d428521e-f65e-4be2-b820-e6ed7ada0b97",
   "metadata": {},
   "outputs": [],
   "source": [
    "# alpha = 0.75\n",
    "gsearch6 = GridSearchCV(estimator = XGBRegressor(learning_rate =0.1, n_estimators=120, max_depth=7,\n",
    "                                                 min_child_weight=8, gamma=0.0, subsample=0.9, colsample_bytree=0.7, seed=201, \n",
    "                                                 reg_alpha = 0.5, n_jobs=num_cpus), \n",
    "                        param_grid = param_test6, scoring = 'neg_mean_squared_error', cv=5, n_jobs=num_cpus)\n",
    "gsearch6.fit(X_tree_train,y_tree_train, early_stopping_rounds = 50, verbose = False,\n",
    "            eval_set = [(X_tree_train, y_tree_train), (X_tree_validation, y_tree_validation)])\n",
    "gsearch6.best_params_, gsearch6.best_score_"
   ]
  },
  {
   "cell_type": "code",
   "execution_count": null,
   "id": "58232b6f-0911-43f3-a23e-1db03bab8ea6",
   "metadata": {},
   "outputs": [],
   "source": [
    "# xgboost model 3 with updated parameters\n",
    "xgb_model3 = XGBRegressor(max_depth=7,\n",
    "                         n_estimators = 1000,\n",
    "                         learning_rate=.1,\n",
    "                         min_child_weight = 8,\n",
    "                         colsample_bytree = 0.7,\n",
    "                         subsample = 0.9,\n",
    "                         gamma = 0.0,\n",
    "                         reg_alpha = 0.75,\n",
    "                         random_state=201,\n",
    "                         n_jobs=num_cpus)"
   ]
  },
  {
   "cell_type": "code",
   "execution_count": null,
   "id": "d1c168e3-90c1-4762-bcb8-56ef23532990",
   "metadata": {},
   "outputs": [],
   "source": [
    "xgb_model3.fit(X_tree_train, y_tree_train, early_stopping_rounds = 50, verbose = 50,\n",
    "              eval_set = [(X_tree_train, y_tree_train), (X_tree_validation, y_tree_validation)])"
   ]
  },
  {
   "cell_type": "code",
   "execution_count": null,
   "id": "74695624-33cb-4d25-94e6-b19df09976cf",
   "metadata": {},
   "outputs": [],
   "source": [
    "# tune learning rate\n",
    "param_test7 = {\n",
    " 'learning_rate':[0.0001, 0.001, 0.01, 0.1, 0.2, 0.3]\n",
    "}"
   ]
  },
  {
   "cell_type": "code",
   "execution_count": null,
   "id": "2396908b-081f-4a84-9da8-14b12ef0cf0d",
   "metadata": {},
   "outputs": [],
   "source": [
    "# learning_rate = 0.1\n",
    "gsearch7 = GridSearchCV(estimator = XGBRegressor(learning_rate =0.1, n_estimators=120, max_depth=7,\n",
    "                                                 min_child_weight=8, gamma=0.0, subsample=0.9, colsample_bytree=0.7, seed=201, \n",
    "                                                 reg_alpha = 0.75, n_jobs=num_cpus), \n",
    "                        param_grid = param_test7, scoring = 'neg_mean_squared_error', cv=5, n_jobs=num_cpus)\n",
    "gsearch7.fit(X_tree_train,y_tree_train, early_stopping_rounds = 50, verbose = False,\n",
    "            eval_set = [(X_tree_train, y_tree_train), (X_tree_validation, y_tree_validation)])\n",
    "gsearch7.best_params_, gsearch7.best_score_"
   ]
  },
  {
   "cell_type": "code",
   "execution_count": 42,
   "id": "91ffd6d9-b825-4f5d-97d0-898ab5e00d77",
   "metadata": {},
   "outputs": [],
   "source": [
    "# re-fit xgboost with updated parameters\n",
    "# early_stopping stopped at n_estimators = 632. Will use n_estimators = 300 for computational purposes\n",
    "xgb_model4 = XGBRegressor(max_depth=7,\n",
    "                         n_estimators = 5000,\n",
    "                         learning_rate=.1,\n",
    "                         min_child_weight = 8,\n",
    "                         colsample_bytree = 0.7,\n",
    "                         subsample = 0.9,\n",
    "                         gamma = 0.0,\n",
    "                         reg_alpha = 0.75,\n",
    "                         random_state=201,\n",
    "                         n_jobs=num_cpus)"
   ]
  },
  {
   "cell_type": "code",
   "execution_count": 43,
   "id": "21098f10-7bb5-4dab-ae09-40abf347ff33",
   "metadata": {},
   "outputs": [
    {
     "name": "stdout",
     "output_type": "stream",
     "text": [
      "[0]\tvalidation_0-rmse:7405.80762\tvalidation_1-rmse:7370.45508\n",
      "[50]\tvalidation_0-rmse:7050.16699\tvalidation_1-rmse:7027.95508\n",
      "[100]\tvalidation_0-rmse:6992.12695\tvalidation_1-rmse:6988.80566\n",
      "[150]\tvalidation_0-rmse:6956.40918\tvalidation_1-rmse:6973.25879\n",
      "[200]\tvalidation_0-rmse:6929.62647\tvalidation_1-rmse:6966.47607\n",
      "[250]\tvalidation_0-rmse:6903.05908\tvalidation_1-rmse:6962.67627\n",
      "[300]\tvalidation_0-rmse:6882.24707\tvalidation_1-rmse:6962.21240\n",
      "[350]\tvalidation_0-rmse:6862.15332\tvalidation_1-rmse:6961.43311\n",
      "[400]\tvalidation_0-rmse:6842.32178\tvalidation_1-rmse:6961.32617\n",
      "[450]\tvalidation_0-rmse:6822.42480\tvalidation_1-rmse:6960.71094\n",
      "[500]\tvalidation_0-rmse:6804.83350\tvalidation_1-rmse:6961.68066\n",
      "[510]\tvalidation_0-rmse:6801.32910\tvalidation_1-rmse:6961.58203\n"
     ]
    },
    {
     "data": {
      "text/plain": [
       "XGBRegressor(base_score=0.5, booster='gbtree', colsample_bylevel=1,\n",
       "             colsample_bynode=1, colsample_bytree=0.7, gamma=0.0, gpu_id=-1,\n",
       "             importance_type='gain', interaction_constraints='',\n",
       "             learning_rate=0.1, max_delta_step=0, max_depth=7,\n",
       "             min_child_weight=8, missing=nan, monotone_constraints='()',\n",
       "             n_estimators=5000, n_jobs=15, num_parallel_tree=1,\n",
       "             random_state=201, reg_alpha=0.75, reg_lambda=1, scale_pos_weight=1,\n",
       "             subsample=0.9, tree_method='approx', validate_parameters=1,\n",
       "             verbosity=None)"
      ]
     },
     "execution_count": 43,
     "metadata": {},
     "output_type": "execute_result"
    }
   ],
   "source": [
    "xgb_model4.fit(X_tree_train, y_tree_train, early_stopping_rounds = 50, verbose = 50,\n",
    "              eval_set = [(X_tree_train, y_tree_train), (X_tree_validation, y_tree_validation)])"
   ]
  },
  {
   "cell_type": "code",
   "execution_count": 44,
   "id": "d3737835-e605-4b89-bad6-e357aab02f5f",
   "metadata": {},
   "outputs": [
    {
     "data": {
      "text/plain": [
       "XGBRegressor(base_score=0.5, booster='gbtree', colsample_bylevel=1,\n",
       "             colsample_bynode=1, colsample_bytree=0.7, gamma=0.0, gpu_id=-1,\n",
       "             importance_type='gain', interaction_constraints='',\n",
       "             learning_rate=0.1, max_delta_step=0, max_depth=7,\n",
       "             min_child_weight=8, missing=nan, monotone_constraints='()',\n",
       "             n_estimators=300, n_jobs=15, num_parallel_tree=1, random_state=201,\n",
       "             reg_alpha=0.75, reg_lambda=1, scale_pos_weight=1, subsample=0.9,\n",
       "             tree_method='approx', validate_parameters=1, verbosity=None)"
      ]
     },
     "execution_count": 44,
     "metadata": {},
     "output_type": "execute_result"
    }
   ],
   "source": [
    "# fit final xgboost train model\n",
    "xgb_train_final = XGBRegressor(max_depth=7,\n",
    "                         n_estimators = 300,\n",
    "                         learning_rate=.1,\n",
    "                         min_child_weight = 8,\n",
    "                         colsample_bytree = 0.7,\n",
    "                         subsample = 0.9,\n",
    "                         gamma = 0.0,\n",
    "                         reg_alpha = 0.75,\n",
    "                         random_state=201,\n",
    "                         n_jobs=num_cpus)\n",
    "xgb_train_final.fit(X_tree_train, y_tree_train)"
   ]
  },
  {
   "cell_type": "code",
   "execution_count": 45,
   "id": "8788f29a-8758-4ca2-b319-7cd9b7f459ae",
   "metadata": {},
   "outputs": [
    {
     "data": {
      "text/html": [
       "<div>\n",
       "<style scoped>\n",
       "    .dataframe tbody tr th:only-of-type {\n",
       "        vertical-align: middle;\n",
       "    }\n",
       "\n",
       "    .dataframe tbody tr th {\n",
       "        vertical-align: top;\n",
       "    }\n",
       "\n",
       "    .dataframe thead th {\n",
       "        text-align: right;\n",
       "    }\n",
       "</style>\n",
       "<table border=\"1\" class=\"dataframe\">\n",
       "  <thead>\n",
       "    <tr style=\"text-align: right;\">\n",
       "      <th></th>\n",
       "      <th>Importance</th>\n",
       "    </tr>\n",
       "  </thead>\n",
       "  <tbody>\n",
       "    <tr>\n",
       "      <th>years_since_crash</th>\n",
       "      <td>0.072932</td>\n",
       "    </tr>\n",
       "    <tr>\n",
       "      <th>REGION(T.W)</th>\n",
       "      <td>0.071585</td>\n",
       "    </tr>\n",
       "    <tr>\n",
       "      <th>YEAR</th>\n",
       "      <td>0.069796</td>\n",
       "    </tr>\n",
       "    <tr>\n",
       "      <th>LOAN_PURPOSE(T.P)</th>\n",
       "      <td>0.066067</td>\n",
       "    </tr>\n",
       "    <tr>\n",
       "      <th>ORIGINAL_LTV</th>\n",
       "      <td>0.064148</td>\n",
       "    </tr>\n",
       "    <tr>\n",
       "      <th>PROPERTY_STATE</th>\n",
       "      <td>0.062658</td>\n",
       "    </tr>\n",
       "    <tr>\n",
       "      <th>REGION(T.S)</th>\n",
       "      <td>0.040347</td>\n",
       "    </tr>\n",
       "    <tr>\n",
       "      <th>ORIGINAL_LOAN_TERM</th>\n",
       "      <td>0.039146</td>\n",
       "    </tr>\n",
       "    <tr>\n",
       "      <th>ORIGINAL_LTV:years_since_crash</th>\n",
       "      <td>0.035354</td>\n",
       "    </tr>\n",
       "    <tr>\n",
       "      <th>BORROWER_CREDIT_SCORE_AT_ORIGINATION</th>\n",
       "      <td>0.033316</td>\n",
       "    </tr>\n",
       "    <tr>\n",
       "      <th>ORIGINAL_INTEREST_RATE</th>\n",
       "      <td>0.032248</td>\n",
       "    </tr>\n",
       "    <tr>\n",
       "      <th>CENSUS_2010_POP</th>\n",
       "      <td>0.031558</td>\n",
       "    </tr>\n",
       "    <tr>\n",
       "      <th>ORIGINAL_COMBINED_LTV</th>\n",
       "      <td>0.024100</td>\n",
       "    </tr>\n",
       "    <tr>\n",
       "      <th>REGION(T.N)</th>\n",
       "      <td>0.020185</td>\n",
       "    </tr>\n",
       "    <tr>\n",
       "      <th>ORIGINAL_VALUE</th>\n",
       "      <td>0.019915</td>\n",
       "    </tr>\n",
       "    <tr>\n",
       "      <th>ORIGINAL_UPB</th>\n",
       "      <td>0.019532</td>\n",
       "    </tr>\n",
       "    <tr>\n",
       "      <th>CREDIT_SCORE_MIN</th>\n",
       "      <td>0.019278</td>\n",
       "    </tr>\n",
       "    <tr>\n",
       "      <th>QUARTER</th>\n",
       "      <td>0.018190</td>\n",
       "    </tr>\n",
       "    <tr>\n",
       "      <th>OCCUPANCY_STATUS(T.P)</th>\n",
       "      <td>0.017784</td>\n",
       "    </tr>\n",
       "    <tr>\n",
       "      <th>NUMBER_OF_BORROWERS</th>\n",
       "      <td>0.016670</td>\n",
       "    </tr>\n",
       "    <tr>\n",
       "      <th>MONTH</th>\n",
       "      <td>0.016388</td>\n",
       "    </tr>\n",
       "    <tr>\n",
       "      <th>COBORROWER_CREDIT_SCORE_AT_ORIGINATION</th>\n",
       "      <td>0.014728</td>\n",
       "    </tr>\n",
       "    <tr>\n",
       "      <th>LOAN_PURPOSE(T.R)</th>\n",
       "      <td>0.014093</td>\n",
       "    </tr>\n",
       "    <tr>\n",
       "      <th>CHANNEL(T.OTHER)</th>\n",
       "      <td>0.014042</td>\n",
       "    </tr>\n",
       "    <tr>\n",
       "      <th>CHANNEL(T.R)</th>\n",
       "      <td>0.012384</td>\n",
       "    </tr>\n",
       "    <tr>\n",
       "      <th>FIRST_TIME_HOME_BUYER_INDICATOR(N):BORROWER_CREDIT_SCORE_AT_ORIGINATION</th>\n",
       "      <td>0.012202</td>\n",
       "    </tr>\n",
       "    <tr>\n",
       "      <th>DTI</th>\n",
       "      <td>0.011981</td>\n",
       "    </tr>\n",
       "    <tr>\n",
       "      <th>PROPERTY_TYPE(T.SF)</th>\n",
       "      <td>0.011978</td>\n",
       "    </tr>\n",
       "    <tr>\n",
       "      <th>PROPERTY_TYPE(T.PU)</th>\n",
       "      <td>0.011761</td>\n",
       "    </tr>\n",
       "    <tr>\n",
       "      <th>NUMBER_OF_UNITS</th>\n",
       "      <td>0.011549</td>\n",
       "    </tr>\n",
       "    <tr>\n",
       "      <th>SELLER_NAME</th>\n",
       "      <td>0.011547</td>\n",
       "    </tr>\n",
       "    <tr>\n",
       "      <th>MORTGAGE_INSURANCE_TYPE(T.missing)</th>\n",
       "      <td>0.011044</td>\n",
       "    </tr>\n",
       "    <tr>\n",
       "      <th>MORTGAGE_INSURANCE_TYPE(T.2)</th>\n",
       "      <td>0.010242</td>\n",
       "    </tr>\n",
       "    <tr>\n",
       "      <th>OCCUPANCY_STATUS(T.OTHER)</th>\n",
       "      <td>0.009176</td>\n",
       "    </tr>\n",
       "    <tr>\n",
       "      <th>FIRST_TIME_HOME_BUYER_INDICATOR(N)</th>\n",
       "      <td>0.009125</td>\n",
       "    </tr>\n",
       "    <tr>\n",
       "      <th>MORTGAGE_INSURANCE_PERCENTAGE</th>\n",
       "      <td>0.009098</td>\n",
       "    </tr>\n",
       "    <tr>\n",
       "      <th>FIRST_TIME_HOME_BUYER_INDICATOR(Y)</th>\n",
       "      <td>0.007288</td>\n",
       "    </tr>\n",
       "    <tr>\n",
       "      <th>FIRST_TIME_HOME_BUYER_INDICATOR(Y):BORROWER_CREDIT_SCORE_AT_ORIGINATION</th>\n",
       "      <td>0.006919</td>\n",
       "    </tr>\n",
       "    <tr>\n",
       "      <th>PROPERTY_TYPE(T.OTHER)</th>\n",
       "      <td>0.004649</td>\n",
       "    </tr>\n",
       "    <tr>\n",
       "      <th>REGION(T.O)</th>\n",
       "      <td>0.003710</td>\n",
       "    </tr>\n",
       "    <tr>\n",
       "      <th>FIRST_TIME_HOME_BUYER_INDICATOR(missing)</th>\n",
       "      <td>0.003100</td>\n",
       "    </tr>\n",
       "    <tr>\n",
       "      <th>FIRST_TIME_HOME_BUYER_INDICATOR(missing):BORROWER_CREDIT_SCORE_AT_ORIGINATION</th>\n",
       "      <td>0.002791</td>\n",
       "    </tr>\n",
       "    <tr>\n",
       "      <th>RELOCATION_MORTGAGE_INDICATOR(T.OTHER)</th>\n",
       "      <td>0.002446</td>\n",
       "    </tr>\n",
       "    <tr>\n",
       "      <th>LOAN_PURPOSE(T.OTHER)</th>\n",
       "      <td>0.002156</td>\n",
       "    </tr>\n",
       "    <tr>\n",
       "      <th>MORTGAGE_INSURANCE_TYPE(T.3)</th>\n",
       "      <td>0.000792</td>\n",
       "    </tr>\n",
       "  </tbody>\n",
       "</table>\n",
       "</div>"
      ],
      "text/plain": [
       "                                                    Importance\n",
       "years_since_crash                                     0.072932\n",
       "REGION(T.W)                                           0.071585\n",
       "YEAR                                                  0.069796\n",
       "LOAN_PURPOSE(T.P)                                     0.066067\n",
       "ORIGINAL_LTV                                          0.064148\n",
       "PROPERTY_STATE                                        0.062658\n",
       "REGION(T.S)                                           0.040347\n",
       "ORIGINAL_LOAN_TERM                                    0.039146\n",
       "ORIGINAL_LTV:years_since_crash                        0.035354\n",
       "BORROWER_CREDIT_SCORE_AT_ORIGINATION                  0.033316\n",
       "ORIGINAL_INTEREST_RATE                                0.032248\n",
       "CENSUS_2010_POP                                       0.031558\n",
       "ORIGINAL_COMBINED_LTV                                 0.024100\n",
       "REGION(T.N)                                           0.020185\n",
       "ORIGINAL_VALUE                                        0.019915\n",
       "ORIGINAL_UPB                                          0.019532\n",
       "CREDIT_SCORE_MIN                                      0.019278\n",
       "QUARTER                                               0.018190\n",
       "OCCUPANCY_STATUS(T.P)                                 0.017784\n",
       "NUMBER_OF_BORROWERS                                   0.016670\n",
       "MONTH                                                 0.016388\n",
       "COBORROWER_CREDIT_SCORE_AT_ORIGINATION                0.014728\n",
       "LOAN_PURPOSE(T.R)                                     0.014093\n",
       "CHANNEL(T.OTHER)                                      0.014042\n",
       "CHANNEL(T.R)                                          0.012384\n",
       "FIRST_TIME_HOME_BUYER_INDICATOR(N):BORROWER_CRE...    0.012202\n",
       "DTI                                                   0.011981\n",
       "PROPERTY_TYPE(T.SF)                                   0.011978\n",
       "PROPERTY_TYPE(T.PU)                                   0.011761\n",
       "NUMBER_OF_UNITS                                       0.011549\n",
       "SELLER_NAME                                           0.011547\n",
       "MORTGAGE_INSURANCE_TYPE(T.missing)                    0.011044\n",
       "MORTGAGE_INSURANCE_TYPE(T.2)                          0.010242\n",
       "OCCUPANCY_STATUS(T.OTHER)                             0.009176\n",
       "FIRST_TIME_HOME_BUYER_INDICATOR(N)                    0.009125\n",
       "MORTGAGE_INSURANCE_PERCENTAGE                         0.009098\n",
       "FIRST_TIME_HOME_BUYER_INDICATOR(Y)                    0.007288\n",
       "FIRST_TIME_HOME_BUYER_INDICATOR(Y):BORROWER_CRE...    0.006919\n",
       "PROPERTY_TYPE(T.OTHER)                                0.004649\n",
       "REGION(T.O)                                           0.003710\n",
       "FIRST_TIME_HOME_BUYER_INDICATOR(missing)              0.003100\n",
       "FIRST_TIME_HOME_BUYER_INDICATOR(missing):BORROW...    0.002791\n",
       "RELOCATION_MORTGAGE_INDICATOR(T.OTHER)                0.002446\n",
       "LOAN_PURPOSE(T.OTHER)                                 0.002156\n",
       "MORTGAGE_INSURANCE_TYPE(T.3)                          0.000792"
      ]
     },
     "execution_count": 45,
     "metadata": {},
     "output_type": "execute_result"
    }
   ],
   "source": [
    "pd.DataFrame({'Importance': xgb_train_final.feature_importances_}, index=X_tree_train.columns).sort_values(['Importance'], ascending=False)"
   ]
  },
  {
   "cell_type": "code",
   "execution_count": 46,
   "id": "8cbe165e-7614-419d-8dbb-4a302e88201e",
   "metadata": {},
   "outputs": [],
   "source": [
    "xgb_pred = xgb_train_final.predict(X_tree_validation)"
   ]
  },
  {
   "cell_type": "code",
   "execution_count": 47,
   "id": "a9052136-8f3c-4bbb-8ad2-8b3fd40411f2",
   "metadata": {},
   "outputs": [
    {
     "data": {
      "text/html": [
       "<style type=\"text/css\">\n",
       "</style>\n",
       "<table id=\"T_f7fba_\">\n",
       "  <thead>\n",
       "    <tr>\n",
       "      <th class=\"col_heading level0 col0\" >RMSE</th>\n",
       "      <th class=\"col_heading level0 col1\" >Naive - RMSE</th>\n",
       "    </tr>\n",
       "  </thead>\n",
       "  <tbody>\n",
       "    <tr>\n",
       "      <td id=\"T_f7fba_row0_col0\" class=\"data row0 col0\" >6962.905084</td>\n",
       "      <td id=\"T_f7fba_row0_col1\" class=\"data row0 col1\" >436.458382</td>\n",
       "    </tr>\n",
       "  </tbody>\n",
       "</table>\n"
      ],
      "text/plain": [
       "<pandas.io.formats.style.Styler at 0x7f37961229a0>"
      ]
     },
     "metadata": {},
     "output_type": "display_data"
    }
   ],
   "source": [
    "accuracy(df_validation['NET_LOSS'], xgb_pred)"
   ]
  },
  {
   "cell_type": "markdown",
   "id": "02dd4fd4-d9b6-4508-8207-599368b0bccf",
   "metadata": {},
   "source": [
    "## Re-Fit XGBoost on Full Train Set"
   ]
  },
  {
   "cell_type": "code",
   "execution_count": 40,
   "id": "aecea53f-8e47-4e60-86e6-75cd7ae71c3f",
   "metadata": {},
   "outputs": [],
   "source": [
    "imputer_mean_final = SimpleImputer(missing_values=np.nan, strategy='mean')\n",
    "imputer_zero_final = SimpleImputer(missing_values=np.nan, strategy='constant', fill_value=0)\n",
    "categorical_imputer_final = CategoricalImputer(other_threshold=.01)\n",
    "special_imputer_final = SimpleImputer(missing_values=np.nan, strategy='constant', fill_value=700)\n",
    "imputer_missing = SimpleImputer(missing_values=np.nan, strategy='constant', fill_value='missing')"
   ]
  },
  {
   "cell_type": "code",
   "execution_count": 41,
   "id": "adcfefaf-5895-4429-89f5-216bf3b40a7f",
   "metadata": {},
   "outputs": [],
   "source": [
    "imputer_mean_final.fit(df_train[continuous_mean])\n",
    "df_train[continuous_mean] = imputer_mean_final.transform(df_train[continuous_mean])\n",
    "df_test[continuous_mean] = imputer_mean_final.transform(df_test[continuous_mean])"
   ]
  },
  {
   "cell_type": "code",
   "execution_count": 42,
   "id": "cab32a94-cc80-4b46-8877-01329ad28411",
   "metadata": {},
   "outputs": [],
   "source": [
    "imputer_zero_final.fit(df_train[continuous_zero])\n",
    "df_train[continuous_zero] = imputer_zero_final.transform(df_train[continuous_zero])\n",
    "df_test[continuous_zero] = imputer_zero_final.transform(df_test[continuous_zero])"
   ]
  },
  {
   "cell_type": "code",
   "execution_count": 43,
   "id": "4e83ebc8-3819-4084-badf-cede46f7ce24",
   "metadata": {},
   "outputs": [],
   "source": [
    "categorical_imputer_final.fit(df_train[categorical_variables])\n",
    "df_train[categorical_variables] = categorical_imputer_final.transform(df_train[categorical_variables])\n",
    "df_test[categorical_variables] = categorical_imputer_final.transform(df_test[categorical_variables])"
   ]
  },
  {
   "cell_type": "code",
   "execution_count": 44,
   "id": "c6446d09-55a3-496f-b16b-c46bf7b6f012",
   "metadata": {},
   "outputs": [],
   "source": [
    "special_imputer_final.fit(df_train[special])\n",
    "df_train[special] = special_imputer_final.transform(df_train[special])\n",
    "df_test[special] = special_imputer_final.transform(df_test[special])"
   ]
  },
  {
   "cell_type": "code",
   "execution_count": 45,
   "id": "4852f70a-51e5-4fbd-9ccf-8bfa819c0507",
   "metadata": {},
   "outputs": [],
   "source": [
    "imputer_missing.fit(df_smaller_train[categorical_missing])\n",
    "df_train[categorical_missing] = imputer_missing.transform(df_train[categorical_missing])\n",
    "df_test[categorical_missing] = imputer_missing.transform(df_test[categorical_missing])"
   ]
  },
  {
   "cell_type": "code",
   "execution_count": 46,
   "id": "210406a4-9e4d-4672-86e1-863c6d577f21",
   "metadata": {},
   "outputs": [],
   "source": [
    "X_tree_train_final = df_train[continuous_features_trees + cat_ordinal_features_trees]\n",
    "y_tree_train_final = df_train['NET_LOSS']"
   ]
  },
  {
   "cell_type": "code",
   "execution_count": 47,
   "id": "46bfa7a6-6f20-49ee-942c-7ef81e0751a0",
   "metadata": {},
   "outputs": [],
   "source": [
    "X_tree_train_patsy_final = dmatrix(formula_tree, df_train, return_type=\"dataframe\")\n",
    "X_tree_train_final = pd.concat([X_tree_train_final, X_tree_train_patsy_final], axis=1)"
   ]
  },
  {
   "cell_type": "code",
   "execution_count": 48,
   "id": "8ba65511-1d16-47de-a8d2-d01a86f89804",
   "metadata": {},
   "outputs": [],
   "source": [
    "ordinal_encoder_final = OrdinalEncoder()\n",
    "ordinal_encoder_final.fit(X_tree_train_final[cat_ordinal_features_trees])\n",
    "X_tree_train_final[cat_ordinal_features_trees] = ordinal_encoder_final.transform(X_tree_train_final[cat_ordinal_features_trees])"
   ]
  },
  {
   "cell_type": "code",
   "execution_count": 49,
   "id": "9115389f-babb-44a5-8784-a89a29709245",
   "metadata": {},
   "outputs": [
    {
     "name": "stderr",
     "output_type": "stream",
     "text": [
      "/tmp/ipykernel_88/3936873654.py:1: FutureWarning: The default value of regex will change from True to False in a future version. In addition, single character regular expressions will *not* be treated as literal strings when regex=True.\n",
      "  X_tree_train_final.columns = X_tree_train_final.columns.str.replace('[', '(').str.replace(']', ')')\n"
     ]
    }
   ],
   "source": [
    "X_tree_train_final.columns = X_tree_train_final.columns.str.replace('[', '(').str.replace(']', ')')"
   ]
  },
  {
   "cell_type": "code",
   "execution_count": 50,
   "id": "80625b6e-8728-4d91-bbfc-db6b81393959",
   "metadata": {},
   "outputs": [
    {
     "name": "stderr",
     "output_type": "stream",
     "text": [
      "/tmp/ipykernel_88/783380200.py:10: FutureWarning: The default value of regex will change from True to False in a future version. In addition, single character regular expressions will *not* be treated as literal strings when regex=True.\n",
      "  X_tree_test.columns = X_tree_test.columns.str.replace('[', '(').str.replace(']', ')')\n"
     ]
    }
   ],
   "source": [
    "X_tree_test = df_test[continuous_features_trees + cat_ordinal_features_trees]\n",
    "y_tree_test = df_test['NET_LOSS']\n",
    "\n",
    "X_tree_test_patsy = build_design_matrices([X_tree_train_patsy_final.design_info], df_test, return_type=\"dataframe\")[0]\n",
    "\n",
    "X_tree_test = pd.concat([X_tree_test, X_tree_test_patsy], axis=1)\n",
    "\n",
    "X_tree_test[cat_ordinal_features_trees] = ordinal_encoder_final.transform(X_tree_test[cat_ordinal_features_trees])\n",
    "\n",
    "X_tree_test.columns = X_tree_test.columns.str.replace('[', '(').str.replace(']', ')')"
   ]
  },
  {
   "cell_type": "code",
   "execution_count": 51,
   "id": "1d988001-fbd2-4398-8ed9-5d4a750ee57e",
   "metadata": {},
   "outputs": [],
   "source": [
    "# two models - can also sub n_estimators from 300 to 632\n",
    "xgb_model_final = XGBRegressor(max_depth = 7,\n",
    "                               n_estimators = 300,\n",
    "                               learning_rate = 0.1,\n",
    "                               min_child_weight = 8,\n",
    "                               colsample_bytree = 0.7,\n",
    "                               subsample = 0.9,\n",
    "                               reg_alpha = 0.75,\n",
    "                               gamma = 0.0,\n",
    "                               random_state = 201,\n",
    "                               n_jobs = num_cpus)\n",
    "xgb_model_final.fit(X_tree_train_final, y_tree_train_final)\n",
    "xgb_pred_final = xgb_model_final.predict(X_tree_test)\n",
    "\n",
    " # different model\n",
    " # xgb_model_final = XGBRegressor(max_depth = 13,\n",
    "                             #  n_estimators = 117,\n",
    "                             #  learning_rate = 0.0331,\n",
    "                             #  min_child_weight = 14,\n",
    "                             #  colsample_bytree = 0.578,\n",
    "                             #  subsample = 0.396,\n",
    "                             #  gamma = 0.0449,\n",
    "                             #  random_state = 201,\n",
    "                             #  n_jobs = num_cpus)\n"
   ]
  },
  {
   "cell_type": "code",
   "execution_count": 52,
   "id": "abf17523-4305-465b-b6d6-7f7eb7d83d17",
   "metadata": {},
   "outputs": [
    {
     "data": {
      "text/html": [
       "<style type=\"text/css\">\n",
       "</style>\n",
       "<table id=\"T_dadae_\">\n",
       "  <thead>\n",
       "    <tr>\n",
       "      <th class=\"col_heading level0 col0\" >RMSE</th>\n",
       "      <th class=\"col_heading level0 col1\" >Naive - RMSE</th>\n",
       "    </tr>\n",
       "  </thead>\n",
       "  <tbody>\n",
       "    <tr>\n",
       "      <td id=\"T_dadae_row0_col0\" class=\"data row0 col0\" >6961.700841</td>\n",
       "      <td id=\"T_dadae_row0_col1\" class=\"data row0 col1\" >437.754505</td>\n",
       "    </tr>\n",
       "  </tbody>\n",
       "</table>\n"
      ],
      "text/plain": [
       "<pandas.io.formats.style.Styler at 0x7f4d483dc280>"
      ]
     },
     "metadata": {},
     "output_type": "display_data"
    }
   ],
   "source": [
    "accuracy(df_test['NET_LOSS'], xgb_pred_final)"
   ]
  },
  {
   "cell_type": "code",
   "execution_count": 53,
   "id": "08dcad24-2d0f-4ee2-b324-6047f96635fc",
   "metadata": {},
   "outputs": [
    {
     "data": {
      "text/html": [
       "<div>\n",
       "<style scoped>\n",
       "    .dataframe tbody tr th:only-of-type {\n",
       "        vertical-align: middle;\n",
       "    }\n",
       "\n",
       "    .dataframe tbody tr th {\n",
       "        vertical-align: top;\n",
       "    }\n",
       "\n",
       "    .dataframe thead th {\n",
       "        text-align: right;\n",
       "    }\n",
       "</style>\n",
       "<table border=\"1\" class=\"dataframe\">\n",
       "  <thead>\n",
       "    <tr style=\"text-align: right;\">\n",
       "      <th></th>\n",
       "      <th>Importance</th>\n",
       "    </tr>\n",
       "  </thead>\n",
       "  <tbody>\n",
       "    <tr>\n",
       "      <th>years_since_crash</th>\n",
       "      <td>0.075217</td>\n",
       "    </tr>\n",
       "    <tr>\n",
       "      <th>PROPERTY_STATE</th>\n",
       "      <td>0.072003</td>\n",
       "    </tr>\n",
       "    <tr>\n",
       "      <th>ORIGINAL_LTV</th>\n",
       "      <td>0.064469</td>\n",
       "    </tr>\n",
       "    <tr>\n",
       "      <th>LOAN_PURPOSE(T.P)</th>\n",
       "      <td>0.064160</td>\n",
       "    </tr>\n",
       "    <tr>\n",
       "      <th>REGION(T.W)</th>\n",
       "      <td>0.060023</td>\n",
       "    </tr>\n",
       "    <tr>\n",
       "      <th>YEAR</th>\n",
       "      <td>0.056810</td>\n",
       "    </tr>\n",
       "    <tr>\n",
       "      <th>ORIGINAL_LTV:years_since_crash</th>\n",
       "      <td>0.049925</td>\n",
       "    </tr>\n",
       "    <tr>\n",
       "      <th>ORIGINAL_INTEREST_RATE</th>\n",
       "      <td>0.038653</td>\n",
       "    </tr>\n",
       "    <tr>\n",
       "      <th>ORIGINAL_LOAN_TERM</th>\n",
       "      <td>0.037234</td>\n",
       "    </tr>\n",
       "    <tr>\n",
       "      <th>REGION(T.S)</th>\n",
       "      <td>0.032592</td>\n",
       "    </tr>\n",
       "    <tr>\n",
       "      <th>CENSUS_2010_POP</th>\n",
       "      <td>0.032306</td>\n",
       "    </tr>\n",
       "    <tr>\n",
       "      <th>ORIGINAL_COMBINED_LTV</th>\n",
       "      <td>0.032076</td>\n",
       "    </tr>\n",
       "    <tr>\n",
       "      <th>BORROWER_CREDIT_SCORE_AT_ORIGINATION</th>\n",
       "      <td>0.031015</td>\n",
       "    </tr>\n",
       "    <tr>\n",
       "      <th>CREDIT_SCORE_MIN</th>\n",
       "      <td>0.024663</td>\n",
       "    </tr>\n",
       "    <tr>\n",
       "      <th>ORIGINAL_VALUE</th>\n",
       "      <td>0.022562</td>\n",
       "    </tr>\n",
       "    <tr>\n",
       "      <th>REGION(T.N)</th>\n",
       "      <td>0.021719</td>\n",
       "    </tr>\n",
       "    <tr>\n",
       "      <th>ORIGINAL_UPB</th>\n",
       "      <td>0.017513</td>\n",
       "    </tr>\n",
       "    <tr>\n",
       "      <th>OCCUPANCY_STATUS(T.P)</th>\n",
       "      <td>0.017345</td>\n",
       "    </tr>\n",
       "    <tr>\n",
       "      <th>NUMBER_OF_BORROWERS</th>\n",
       "      <td>0.016315</td>\n",
       "    </tr>\n",
       "    <tr>\n",
       "      <th>MONTH</th>\n",
       "      <td>0.015953</td>\n",
       "    </tr>\n",
       "    <tr>\n",
       "      <th>LOAN_PURPOSE(T.R)</th>\n",
       "      <td>0.014832</td>\n",
       "    </tr>\n",
       "    <tr>\n",
       "      <th>CHANNEL(T.R)</th>\n",
       "      <td>0.014657</td>\n",
       "    </tr>\n",
       "    <tr>\n",
       "      <th>SELLER_NAME</th>\n",
       "      <td>0.014600</td>\n",
       "    </tr>\n",
       "    <tr>\n",
       "      <th>PROPERTY_TYPE(T.SF)</th>\n",
       "      <td>0.013766</td>\n",
       "    </tr>\n",
       "    <tr>\n",
       "      <th>QUARTER</th>\n",
       "      <td>0.013576</td>\n",
       "    </tr>\n",
       "    <tr>\n",
       "      <th>COBORROWER_CREDIT_SCORE_AT_ORIGINATION</th>\n",
       "      <td>0.012727</td>\n",
       "    </tr>\n",
       "    <tr>\n",
       "      <th>FIRST_TIME_HOME_BUYER_INDICATOR(N)</th>\n",
       "      <td>0.012607</td>\n",
       "    </tr>\n",
       "    <tr>\n",
       "      <th>CHANNEL(T.OTHER)</th>\n",
       "      <td>0.012099</td>\n",
       "    </tr>\n",
       "    <tr>\n",
       "      <th>FIRST_TIME_HOME_BUYER_INDICATOR(N):BORROWER_CREDIT_SCORE_AT_ORIGINATION</th>\n",
       "      <td>0.011479</td>\n",
       "    </tr>\n",
       "    <tr>\n",
       "      <th>FIRST_TIME_HOME_BUYER_INDICATOR(Y)</th>\n",
       "      <td>0.011051</td>\n",
       "    </tr>\n",
       "    <tr>\n",
       "      <th>MORTGAGE_INSURANCE_PERCENTAGE</th>\n",
       "      <td>0.009748</td>\n",
       "    </tr>\n",
       "    <tr>\n",
       "      <th>NUMBER_OF_UNITS</th>\n",
       "      <td>0.009642</td>\n",
       "    </tr>\n",
       "    <tr>\n",
       "      <th>DTI</th>\n",
       "      <td>0.009337</td>\n",
       "    </tr>\n",
       "    <tr>\n",
       "      <th>MORTGAGE_INSURANCE_TYPE(T.missing)</th>\n",
       "      <td>0.009331</td>\n",
       "    </tr>\n",
       "    <tr>\n",
       "      <th>FIRST_TIME_HOME_BUYER_INDICATOR(Y):BORROWER_CREDIT_SCORE_AT_ORIGINATION</th>\n",
       "      <td>0.008771</td>\n",
       "    </tr>\n",
       "    <tr>\n",
       "      <th>OCCUPANCY_STATUS(T.OTHER)</th>\n",
       "      <td>0.007337</td>\n",
       "    </tr>\n",
       "    <tr>\n",
       "      <th>PROPERTY_TYPE(T.PU)</th>\n",
       "      <td>0.007294</td>\n",
       "    </tr>\n",
       "    <tr>\n",
       "      <th>MORTGAGE_INSURANCE_TYPE(T.2)</th>\n",
       "      <td>0.006242</td>\n",
       "    </tr>\n",
       "    <tr>\n",
       "      <th>PROPERTY_TYPE(T.OTHER)</th>\n",
       "      <td>0.004475</td>\n",
       "    </tr>\n",
       "    <tr>\n",
       "      <th>FIRST_TIME_HOME_BUYER_INDICATOR(missing)</th>\n",
       "      <td>0.003832</td>\n",
       "    </tr>\n",
       "    <tr>\n",
       "      <th>RELOCATION_MORTGAGE_INDICATOR(T.OTHER)</th>\n",
       "      <td>0.003150</td>\n",
       "    </tr>\n",
       "    <tr>\n",
       "      <th>REGION(T.O)</th>\n",
       "      <td>0.002498</td>\n",
       "    </tr>\n",
       "    <tr>\n",
       "      <th>FIRST_TIME_HOME_BUYER_INDICATOR(missing):BORROWER_CREDIT_SCORE_AT_ORIGINATION</th>\n",
       "      <td>0.002455</td>\n",
       "    </tr>\n",
       "    <tr>\n",
       "      <th>LOAN_PURPOSE(T.OTHER)</th>\n",
       "      <td>0.001232</td>\n",
       "    </tr>\n",
       "    <tr>\n",
       "      <th>MORTGAGE_INSURANCE_TYPE(T.3)</th>\n",
       "      <td>0.000710</td>\n",
       "    </tr>\n",
       "  </tbody>\n",
       "</table>\n",
       "</div>"
      ],
      "text/plain": [
       "                                                    Importance\n",
       "years_since_crash                                     0.075217\n",
       "PROPERTY_STATE                                        0.072003\n",
       "ORIGINAL_LTV                                          0.064469\n",
       "LOAN_PURPOSE(T.P)                                     0.064160\n",
       "REGION(T.W)                                           0.060023\n",
       "YEAR                                                  0.056810\n",
       "ORIGINAL_LTV:years_since_crash                        0.049925\n",
       "ORIGINAL_INTEREST_RATE                                0.038653\n",
       "ORIGINAL_LOAN_TERM                                    0.037234\n",
       "REGION(T.S)                                           0.032592\n",
       "CENSUS_2010_POP                                       0.032306\n",
       "ORIGINAL_COMBINED_LTV                                 0.032076\n",
       "BORROWER_CREDIT_SCORE_AT_ORIGINATION                  0.031015\n",
       "CREDIT_SCORE_MIN                                      0.024663\n",
       "ORIGINAL_VALUE                                        0.022562\n",
       "REGION(T.N)                                           0.021719\n",
       "ORIGINAL_UPB                                          0.017513\n",
       "OCCUPANCY_STATUS(T.P)                                 0.017345\n",
       "NUMBER_OF_BORROWERS                                   0.016315\n",
       "MONTH                                                 0.015953\n",
       "LOAN_PURPOSE(T.R)                                     0.014832\n",
       "CHANNEL(T.R)                                          0.014657\n",
       "SELLER_NAME                                           0.014600\n",
       "PROPERTY_TYPE(T.SF)                                   0.013766\n",
       "QUARTER                                               0.013576\n",
       "COBORROWER_CREDIT_SCORE_AT_ORIGINATION                0.012727\n",
       "FIRST_TIME_HOME_BUYER_INDICATOR(N)                    0.012607\n",
       "CHANNEL(T.OTHER)                                      0.012099\n",
       "FIRST_TIME_HOME_BUYER_INDICATOR(N):BORROWER_CRE...    0.011479\n",
       "FIRST_TIME_HOME_BUYER_INDICATOR(Y)                    0.011051\n",
       "MORTGAGE_INSURANCE_PERCENTAGE                         0.009748\n",
       "NUMBER_OF_UNITS                                       0.009642\n",
       "DTI                                                   0.009337\n",
       "MORTGAGE_INSURANCE_TYPE(T.missing)                    0.009331\n",
       "FIRST_TIME_HOME_BUYER_INDICATOR(Y):BORROWER_CRE...    0.008771\n",
       "OCCUPANCY_STATUS(T.OTHER)                             0.007337\n",
       "PROPERTY_TYPE(T.PU)                                   0.007294\n",
       "MORTGAGE_INSURANCE_TYPE(T.2)                          0.006242\n",
       "PROPERTY_TYPE(T.OTHER)                                0.004475\n",
       "FIRST_TIME_HOME_BUYER_INDICATOR(missing)              0.003832\n",
       "RELOCATION_MORTGAGE_INDICATOR(T.OTHER)                0.003150\n",
       "REGION(T.O)                                           0.002498\n",
       "FIRST_TIME_HOME_BUYER_INDICATOR(missing):BORROW...    0.002455\n",
       "LOAN_PURPOSE(T.OTHER)                                 0.001232\n",
       "MORTGAGE_INSURANCE_TYPE(T.3)                          0.000710"
      ]
     },
     "execution_count": 53,
     "metadata": {},
     "output_type": "execute_result"
    }
   ],
   "source": [
    "pd.DataFrame({'Importance': xgb_model_final.feature_importances_}, index=X_tree_train_final.columns).sort_values(['Importance'], ascending=False)"
   ]
  },
  {
   "cell_type": "code",
   "execution_count": 55,
   "id": "27dfb9ef-086d-4466-94f2-57457ad4a87b",
   "metadata": {},
   "outputs": [],
   "source": [
    "if not full_data_set:\n",
    "    df_test_fresh = pd.read_csv(FILES_LOCATION + \"FannieMaeSmallTest.csv\",\n",
    "                          index_col=\"LOAN_IDENTIFIER\",\n",
    "                          dtype=col_classes,\n",
    "                          parse_dates=date_columns,\n",
    "                          sep='|')\n",
    "elif full_data_set:\n",
    "    df_test_fresh = pd.read_csv(FILES_LOCATION + \"FannieMaeTest.csv\",\n",
    "                          index_col=\"LOAN_IDENTIFIER\",\n",
    "                          dtype=col_classes,\n",
    "                          parse_dates=date_columns,\n",
    "                          sep='|')"
   ]
  },
  {
   "cell_type": "code",
   "execution_count": 56,
   "id": "d21719ea-ae88-4e47-9e1e-0c6c0a31f5ce",
   "metadata": {},
   "outputs": [],
   "source": [
    "df_test_fresh['PREDICTIONS_NET_LOSS'] = xgb_pred_final"
   ]
  },
  {
   "cell_type": "code",
   "execution_count": 57,
   "id": "f1839cea-e19c-4b4e-850f-fb7355cd943e",
   "metadata": {},
   "outputs": [],
   "source": [
    "df_test_fresh.to_csv('FannieMaeTestWithPredictionsNetLoss.csv', sep='|')"
   ]
  },
  {
   "cell_type": "code",
   "execution_count": 58,
   "id": "ca669cdf-d2e2-4e19-897d-b6cf9d8175b0",
   "metadata": {},
   "outputs": [],
   "source": [
    "xgb_pred_final = pd.Series(xgb_pred_final)\n",
    "xgb_pred_final.to_csv('xgb_pred_final.csv')"
   ]
  }
 ],
 "metadata": {
  "kernelspec": {
   "display_name": "Python 3",
   "language": "python",
   "name": "python3"
  },
  "language_info": {
   "codemirror_mode": {
    "name": "ipython",
    "version": 3
   },
   "file_extension": ".py",
   "mimetype": "text/x-python",
   "name": "python",
   "nbconvert_exporter": "python",
   "pygments_lexer": "ipython3",
   "version": "3.8.8"
  }
 },
 "nbformat": 4,
 "nbformat_minor": 5
}
